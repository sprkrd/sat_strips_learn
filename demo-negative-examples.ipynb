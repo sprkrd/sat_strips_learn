{
 "cells": [
  {
   "cell_type": "code",
   "execution_count": 7,
   "metadata": {},
   "outputs": [
    {
     "name": "stdout",
     "output_type": "stream",
     "text": [
      "4 .....\n",
      "3 .....\n",
      "2 73285\n",
      "1 69401\n",
      "  ABCDE\n"
     ]
    }
   ],
   "source": [
    "from terminal_simulator import Game\n",
    "\n",
    "game = Game(\"numbers\", 42)\n",
    "print(game)"
   ]
  },
  {
   "cell_type": "code",
   "execution_count": 8,
   "metadata": {},
   "outputs": [
    {
     "name": "stdout",
     "output_type": "stream",
     "text": [
      "{ down(e2,e1),location(b4),right(a3,b3),up(c2,c3),right(b4,c4),down(a3,a2),token(9),less-than(1,6),location(e2),down(e4,e3),less-than(5,9),up(b3,b4),location(a3),location(c2),down(d3,d2),less-than(0,4),up(e2,e3),empty(e3),down(d4,d3),up(b2,b3),less-than(2,4),less-than(1,8),up(d2,d3),right(d4,e4),up(d3,d4),left(c2,b2),right(c2,d2),down(c2,c1),at(8,d2),left(e2,d2),less-than(2,9),token(5),right(a2,b2),location(d3),less-than(4,6),right(d2,e2),location(e1),left(d3,c3),right(b1,c1),less-than(3,6),less-than(0,5),location(a2),location(e4),left(e4,d4),right(d3,e3),location(c3),right(b2,c2),less-than(4,8),time-step(0),right(d1,e1),less-than(6,7),less-than(2,5),less-than(3,8),empty(c4),location(b3),location(a1),location(d4),up(c1,c2),up(e3,e4),less-than(8,9),token(1),location(b1),less-than(3,9),at(4,c1),down(b4,b3),less-than(1,4),less-than(0,7),location(c1),at(5,e2),less-than(2,7),at(0,d1),less-than(1,9),less-than(0,1),left(b3,a3),left(c3,b3),left(e1,d1),empty(a4),token(0),location(d2),left(b2,a2),left(d1,c1),right(a4,b4),empty(d3),right(c4,d4),less-than(0,2),down(c4,c3),token(7),less-than(3,4),less-than(1,5),down(a2,a1),less-than(5,7),at(7,a2),less-than(4,9),empty(e4),left(d4,c4),up(a1,a2),empty(b4),less-than(0,3),less-than(7,8),left(c4,b4),empty(d4),empty(a3),right(c3,d3),down(a4,a3),up(b1,b2),left(d2,c2),at(1,e1),token(2),right(c1,d1),at(6,a1),less-than(6,8),less-than(1,7),at(3,b2),down(d2,d1),less-than(0,6),less-than(4,5),location(b2),at(9,b1),location(d1),less-than(6,9),less-than(2,6),less-than(3,5),location(e3),up(c3,c4),token(3),at(2,c2),less-than(0,8),up(e1,e2),less-than(1,2),left(b4,a4),left(b1,a1),less-than(2,8),down(c3,c2),down(e3,e2),empty(c3),right(a1,b1),less-than(0,9),less-than(4,7),location(a4),up(a2,a3),down(b2,b1),empty(b3),less-than(3,7),up(a3,a4),token(6),less-than(5,6),less-than(2,3),up(d1,d2),less-than(1,3),left(e3,d3),right(b3,c3),down(b3,b2),less-than(7,9),left(c1,b1),token(8),token(4),location(c4),less-than(5,8); maybe  }\n"
     ]
    }
   ],
   "source": [
    "print(game.get_state())"
   ]
  },
  {
   "cell_type": "code",
   "execution_count": 4,
   "metadata": {},
   "outputs": [
    {
     "name": "stdout",
     "output_type": "stream",
     "text": [
      "4 k....\n",
      "3 .....\n",
      "2 .....\n",
      "1 .....\n",
      "  ABCDE\n",
      "\n",
      "4 .k...\n",
      "3 .....\n",
      "2 .....\n",
      "1 .....\n",
      "  ABCDE\n",
      "\n",
      "4 .....\n",
      "3 .k...\n",
      "2 .....\n",
      "1 .....\n",
      "  ABCDE\n",
      "\n",
      "4 .....\n",
      "3 ..k..\n",
      "2 .....\n",
      "1 .....\n",
      "  ABCDE\n",
      "\n",
      "4 .....\n",
      "3 .k...\n",
      "2 .....\n",
      "1 .....\n",
      "  ABCDE\n",
      "\n",
      "4 .....\n",
      "3 k....\n",
      "2 .....\n",
      "1 .....\n",
      "  ABCDE\n",
      "\n"
     ]
    }
   ],
   "source": [
    "from satstripslearn.oaru import OaruAlgorithm, STANDARD_FILTERS\n",
    "\n",
    "oaru = OaruAlgorithm(filters=STANDARD_FILTERS)\n",
    "\n",
    "s0 = game.get_state()\n",
    "print(game, end=\"\\n\\n\")\n",
    "\n",
    "game.pick_and_place(\"k\", \"B4\")\n",
    "s1 = game.get_state()\n",
    "print(game, end=\"\\n\\n\")\n",
    "\n",
    "game.pick_and_place(\"k\", \"B3\")\n",
    "s2 = game.get_state()\n",
    "print(game, end=\"\\n\\n\")\n",
    "\n",
    "game.pick_and_place(\"k\", \"C3\")\n",
    "s3 = game.get_state()\n",
    "print(game, end=\"\\n\\n\")\n",
    "\n",
    "game.pick_and_place(\"k\", \"B3\")\n",
    "s4 = game.get_state()\n",
    "print(game, end=\"\\n\\n\")\n",
    "\n",
    "game.pick_and_place(\"k\", \"A3\")\n",
    "s5 = game.get_state()\n",
    "print(game, end=\"\\n\\n\")\n",
    "\n",
    "oaru.action_recognition(s0, s1)\n",
    "oaru.draw_graph(\"s0_s1\")\n",
    "\n",
    "oaru.action_recognition(s1, s2)\n",
    "oaru.draw_graph(\"s1_s2\")\n",
    "\n",
    "oaru.action_recognition(s2, s3)\n",
    "oaru.draw_graph(\"s2_s3\")\n",
    "\n",
    "oaru.action_recognition(s3, s4)\n",
    "oaru.draw_graph(\"s3_s4\")\n",
    "\n",
    "oaru.action_recognition(s4, s5)\n",
    "oaru.draw_graph(\"s4_s5\")"
   ]
  },
  {
   "cell_type": "code",
   "execution_count": 5,
   "metadata": {},
   "outputs": [
    {
     "name": "stdout",
     "output_type": "stream",
     "text": [
      "4 k....\n",
      "3 .....\n",
      "2 .....\n",
      "1 .....\n",
      "  ABCDE\n",
      "\n",
      "4 .k...\n",
      "3 .....\n",
      "2 .....\n",
      "1 .....\n",
      "  ABCDE\n",
      "\n",
      "4 .....\n",
      "3 .k...\n",
      "2 .....\n",
      "1 .....\n",
      "  ABCDE\n",
      "\n",
      "4 .....\n",
      "3 .....\n",
      "2 ...k.\n",
      "1 .....\n",
      "  ABCDE\n",
      "\n"
     ]
    },
    {
     "ename": "AssertionError",
     "evalue": "Action must be completely ground, and all features must be certain, in order to be applicable",
     "output_type": "error",
     "traceback": [
      "\u001b[0;31m---------------------------------------------------------------------------\u001b[0m",
      "\u001b[0;31mAssertionError\u001b[0m                            Traceback (most recent call last)",
      "\u001b[0;32m<ipython-input-5-4f1fdfdbda61>\u001b[0m in \u001b[0;36m<module>\u001b[0;34m\u001b[0m\n\u001b[1;32m     45\u001b[0m \u001b[0;31m#oaru.draw_graph(\"s4_s5\")\u001b[0m\u001b[0;34m\u001b[0m\u001b[0;34m\u001b[0m\u001b[0;34m\u001b[0m\u001b[0m\n\u001b[1;32m     46\u001b[0m \u001b[0;34m\u001b[0m\u001b[0m\n\u001b[0;32m---> 47\u001b[0;31m \u001b[0moaru\u001b[0m\u001b[0;34m.\u001b[0m\u001b[0madd_negative_example\u001b[0m\u001b[0;34m(\u001b[0m\u001b[0ms2\u001b[0m\u001b[0;34m,\u001b[0m \u001b[0ms6\u001b[0m\u001b[0;34m)\u001b[0m\u001b[0;34m\u001b[0m\u001b[0;34m\u001b[0m\u001b[0m\n\u001b[0m",
      "\u001b[0;32m~/Software/sat_strips_learn/satstripslearn/oaru.py\u001b[0m in \u001b[0;36madd_negative_example\u001b[0;34m(self, pre_state, post_state)\u001b[0m\n\u001b[1;32m    132\u001b[0m         \u001b[0mself\u001b[0m\u001b[0;34m.\u001b[0m\u001b[0mnegative_examples\u001b[0m\u001b[0;34m.\u001b[0m\u001b[0mappend\u001b[0m\u001b[0;34m(\u001b[0m\u001b[0mneg_example\u001b[0m\u001b[0;34m)\u001b[0m\u001b[0;34m\u001b[0m\u001b[0;34m\u001b[0m\u001b[0m\n\u001b[1;32m    133\u001b[0m         \u001b[0;32mfor\u001b[0m \u001b[0maction\u001b[0m \u001b[0;32min\u001b[0m \u001b[0mlist\u001b[0m\u001b[0;34m(\u001b[0m\u001b[0mself\u001b[0m\u001b[0;34m.\u001b[0m\u001b[0maction_library\u001b[0m\u001b[0;34m.\u001b[0m\u001b[0mvalues\u001b[0m\u001b[0;34m(\u001b[0m\u001b[0;34m)\u001b[0m\u001b[0;34m)\u001b[0m\u001b[0;34m:\u001b[0m\u001b[0;34m\u001b[0m\u001b[0;34m\u001b[0m\u001b[0m\n\u001b[0;32m--> 134\u001b[0;31m             \u001b[0mself\u001b[0m\u001b[0;34m.\u001b[0m\u001b[0m_refactor\u001b[0m\u001b[0;34m(\u001b[0m\u001b[0maction\u001b[0m\u001b[0;34m,\u001b[0m \u001b[0mneg_example\u001b[0m\u001b[0;34m)\u001b[0m\u001b[0;34m\u001b[0m\u001b[0;34m\u001b[0m\u001b[0m\n\u001b[0m\u001b[1;32m    135\u001b[0m \u001b[0;34m\u001b[0m\u001b[0m\n\u001b[1;32m    136\u001b[0m     def draw_graph(self, outdir, coarse=False, view=False, cleanup=True,\n",
      "\u001b[0;32m~/Software/sat_strips_learn/satstripslearn/oaru.py\u001b[0m in \u001b[0;36m_refactor\u001b[0;34m(self, action, neg_example)\u001b[0m\n\u001b[1;32m    110\u001b[0m             \u001b[0munchecked_actions_next\u001b[0m \u001b[0;34m=\u001b[0m \u001b[0;34m[\u001b[0m\u001b[0;34m]\u001b[0m\u001b[0;34m\u001b[0m\u001b[0;34m\u001b[0m\u001b[0m\n\u001b[1;32m    111\u001b[0m             \u001b[0;32mfor\u001b[0m \u001b[0ma\u001b[0m \u001b[0;32min\u001b[0m \u001b[0munchecked_actions\u001b[0m\u001b[0;34m:\u001b[0m\u001b[0;34m\u001b[0m\u001b[0;34m\u001b[0m\u001b[0m\n\u001b[0;32m--> 112\u001b[0;31m                 \u001b[0;32mif\u001b[0m \u001b[0ma\u001b[0m\u001b[0;34m.\u001b[0m\u001b[0mcan_produce_transition\u001b[0m\u001b[0;34m(\u001b[0m\u001b[0;34m*\u001b[0m\u001b[0mneg_example\u001b[0m\u001b[0;34m)\u001b[0m\u001b[0;34m:\u001b[0m\u001b[0;34m\u001b[0m\u001b[0;34m\u001b[0m\u001b[0m\n\u001b[0m\u001b[1;32m    113\u001b[0m                     \u001b[0;32massert\u001b[0m \u001b[0ma\u001b[0m\u001b[0;34m.\u001b[0m\u001b[0mparent\u001b[0m \u001b[0;32mis\u001b[0m \u001b[0;32mnot\u001b[0m \u001b[0;32mNone\u001b[0m\u001b[0;34m,\u001b[0m \u001b[0;34m\"Cannot undo cluster!\"\u001b[0m\u001b[0;34m\u001b[0m\u001b[0;34m\u001b[0m\u001b[0m\n\u001b[1;32m    114\u001b[0m                     \u001b[0mparent_left\u001b[0m \u001b[0;34m=\u001b[0m \u001b[0ma\u001b[0m\u001b[0;34m.\u001b[0m\u001b[0mparent\u001b[0m\u001b[0;34m.\u001b[0m\u001b[0mleft_parent\u001b[0m\u001b[0;34m\u001b[0m\u001b[0;34m\u001b[0m\u001b[0m\n",
      "\u001b[0;32m~/Software/sat_strips_learn/satstripslearn/action.py\u001b[0m in \u001b[0;36mcan_produce_transition\u001b[0;34m(self, pre_state, post_state)\u001b[0m\n\u001b[1;32m    177\u001b[0m     \u001b[0;32mdef\u001b[0m \u001b[0mcan_produce_transition\u001b[0m\u001b[0;34m(\u001b[0m\u001b[0mself\u001b[0m\u001b[0;34m,\u001b[0m \u001b[0mpre_state\u001b[0m\u001b[0;34m,\u001b[0m \u001b[0mpost_state\u001b[0m\u001b[0;34m)\u001b[0m\u001b[0;34m:\u001b[0m\u001b[0;34m\u001b[0m\u001b[0;34m\u001b[0m\u001b[0m\n\u001b[1;32m    178\u001b[0m         \u001b[0;32mfor\u001b[0m \u001b[0maction\u001b[0m \u001b[0;32min\u001b[0m \u001b[0mself\u001b[0m\u001b[0;34m.\u001b[0m\u001b[0mall_instantiations\u001b[0m\u001b[0;34m(\u001b[0m\u001b[0mpre_state\u001b[0m\u001b[0;34m)\u001b[0m\u001b[0;34m:\u001b[0m\u001b[0;34m\u001b[0m\u001b[0;34m\u001b[0m\u001b[0m\n\u001b[0;32m--> 179\u001b[0;31m             \u001b[0mstate_after\u001b[0m \u001b[0;34m=\u001b[0m \u001b[0maction\u001b[0m\u001b[0;34m.\u001b[0m\u001b[0mapply\u001b[0m\u001b[0;34m(\u001b[0m\u001b[0mpre_state\u001b[0m\u001b[0;34m)\u001b[0m\u001b[0;34m\u001b[0m\u001b[0;34m\u001b[0m\u001b[0m\n\u001b[0m\u001b[1;32m    180\u001b[0m             \u001b[0;32mif\u001b[0m \u001b[0mstate_after\u001b[0m \u001b[0;34m==\u001b[0m \u001b[0mpost_state\u001b[0m\u001b[0;34m:\u001b[0m\u001b[0;34m\u001b[0m\u001b[0;34m\u001b[0m\u001b[0m\n\u001b[1;32m    181\u001b[0m                 \u001b[0;32mreturn\u001b[0m \u001b[0;32mTrue\u001b[0m\u001b[0;34m\u001b[0m\u001b[0;34m\u001b[0m\u001b[0m\n",
      "\u001b[0;32m~/Software/sat_strips_learn/satstripslearn/action.py\u001b[0m in \u001b[0;36mapply\u001b[0;34m(self, state)\u001b[0m\n\u001b[1;32m    186\u001b[0m         \u001b[0mstate\u001b[0m \u001b[0;34m=\u001b[0m \u001b[0mstate\u001b[0m\u001b[0;34m.\u001b[0m\u001b[0mcopy\u001b[0m\u001b[0;34m(\u001b[0m\u001b[0;34m)\u001b[0m\u001b[0;34m\u001b[0m\u001b[0;34m\u001b[0m\u001b[0m\n\u001b[1;32m    187\u001b[0m         \u001b[0;32mfor\u001b[0m \u001b[0mfeat\u001b[0m \u001b[0;32min\u001b[0m \u001b[0mself\u001b[0m\u001b[0;34m.\u001b[0m\u001b[0mfeatures\u001b[0m\u001b[0;34m:\u001b[0m\u001b[0;34m\u001b[0m\u001b[0;34m\u001b[0m\u001b[0m\n\u001b[0;32m--> 188\u001b[0;31m             \u001b[0;32massert\u001b[0m \u001b[0mfeat\u001b[0m\u001b[0;34m.\u001b[0m\u001b[0mis_ground\u001b[0m\u001b[0;34m(\u001b[0m\u001b[0;34m)\u001b[0m \u001b[0;32mand\u001b[0m \u001b[0mfeat\u001b[0m\u001b[0;34m.\u001b[0m\u001b[0mcertain\u001b[0m\u001b[0;34m,\u001b[0m \u001b[0;34m\"Action must be completely ground, and all features must be certain, in order to be applicable\"\u001b[0m\u001b[0;34m\u001b[0m\u001b[0;34m\u001b[0m\u001b[0m\n\u001b[0m\u001b[1;32m    189\u001b[0m             \u001b[0;32mif\u001b[0m \u001b[0mfeat\u001b[0m\u001b[0;34m.\u001b[0m\u001b[0mfeature_type\u001b[0m \u001b[0;34m==\u001b[0m \u001b[0;34m\"pre\"\u001b[0m\u001b[0;34m:\u001b[0m\u001b[0;34m\u001b[0m\u001b[0;34m\u001b[0m\u001b[0m\n\u001b[1;32m    190\u001b[0m                 \u001b[0;32mif\u001b[0m \u001b[0mfeat\u001b[0m\u001b[0;34m.\u001b[0m\u001b[0matom\u001b[0m \u001b[0;32mnot\u001b[0m \u001b[0;32min\u001b[0m \u001b[0mstate\u001b[0m\u001b[0;34m.\u001b[0m\u001b[0matoms\u001b[0m\u001b[0;34m:\u001b[0m\u001b[0;34m\u001b[0m\u001b[0;34m\u001b[0m\u001b[0m\n",
      "\u001b[0;31mAssertionError\u001b[0m: Action must be completely ground, and all features must be certain, in order to be applicable"
     ]
    }
   ],
   "source": [
    "game = Game(\"king\", 42)\n",
    "\n",
    "oaru = OaruAlgorithm(filters=STANDARD_FILTERS, timeout=300)\n",
    "\n",
    "s0 = game.get_state()\n",
    "print(game, end=\"\\n\\n\")\n",
    "\n",
    "game.pick_and_place(\"k\", \"B4\")\n",
    "s1 = game.get_state()\n",
    "print(game, end=\"\\n\\n\")\n",
    "\n",
    "game.pick_and_place(\"k\", \"B3\")\n",
    "s2 = game.get_state()\n",
    "print(game, end=\"\\n\\n\")\n",
    "\n",
    "#game.pick_and_place(\"k\", \"C3\")\n",
    "#s3 = game.get_state()\n",
    "#print(game, end=\"\\n\\n\")\n",
    "\n",
    "#game.pick_and_place(\"k\", \"B3\")\n",
    "#s4 = game.get_state()\n",
    "#print(game, end=\"\\n\\n\")\n",
    "\n",
    "#game.pick_and_place(\"k\", \"A3\")\n",
    "#s5 = game.get_state()\n",
    "#print(game, end=\"\\n\\n\")\n",
    "\n",
    "game.pick_and_place(\"k\", \"D2\")\n",
    "s6 = game.get_state()\n",
    "print(game, end=\"\\n\\n\")\n",
    "\n",
    "oaru.action_recognition(s0, s1)\n",
    "oaru.draw_graph(\"s0_s1\")\n",
    "\n",
    "oaru.action_recognition(s1, s2)\n",
    "oaru.draw_graph(\"s1_s2\")\n",
    "\n",
    "#oaru.action_recognition(s2, s3)\n",
    "#oaru.draw_graph(\"s2_s3\")\n",
    "\n",
    "#oaru.action_recognition(s3, s4)\n",
    "#oaru.draw_graph(\"s3_s4\")\n",
    "\n",
    "#oaru.action_recognition(s4, s5)\n",
    "#oaru.draw_graph(\"s4_s5\")\n",
    "\n",
    "oaru.add_negative_example(s2, s6)"
   ]
  },
  {
   "cell_type": "code",
   "execution_count": 6,
   "metadata": {},
   "outputs": [
    {
     "name": "stdout",
     "output_type": "stream",
     "text": [
      "{'action-18': Action{name=action-18, 32 features}}\n"
     ]
    },
    {
     "ename": "KeyError",
     "evalue": "'action-44'",
     "output_type": "error",
     "traceback": [
      "\u001b[0;31m---------------------------------------------------------------------------\u001b[0m",
      "\u001b[0;31mKeyError\u001b[0m                                  Traceback (most recent call last)",
      "\u001b[0;32m<ipython-input-6-30695b57c158>\u001b[0m in \u001b[0;36m<module>\u001b[0;34m\u001b[0m\n\u001b[1;32m      1\u001b[0m \u001b[0mprint\u001b[0m\u001b[0;34m(\u001b[0m\u001b[0moaru\u001b[0m\u001b[0;34m.\u001b[0m\u001b[0maction_library\u001b[0m\u001b[0;34m)\u001b[0m\u001b[0;34m\u001b[0m\u001b[0;34m\u001b[0m\u001b[0m\n\u001b[1;32m      2\u001b[0m \u001b[0;34m\u001b[0m\u001b[0m\n\u001b[0;32m----> 3\u001b[0;31m \u001b[0maction\u001b[0m \u001b[0;34m=\u001b[0m \u001b[0moaru\u001b[0m\u001b[0;34m.\u001b[0m\u001b[0maction_library\u001b[0m\u001b[0;34m[\u001b[0m\u001b[0;34m\"action-44\"\u001b[0m\u001b[0;34m]\u001b[0m\u001b[0;34m\u001b[0m\u001b[0;34m\u001b[0m\u001b[0m\n\u001b[0m\u001b[1;32m      4\u001b[0m \u001b[0;34m\u001b[0m\u001b[0m\n\u001b[1;32m      5\u001b[0m \u001b[0mprint\u001b[0m\u001b[0;34m(\u001b[0m\u001b[0maction\u001b[0m\u001b[0;34m)\u001b[0m\u001b[0;34m\u001b[0m\u001b[0;34m\u001b[0m\u001b[0m\n",
      "\u001b[0;31mKeyError\u001b[0m: 'action-44'"
     ]
    }
   ],
   "source": [
    "\n",
    "print(oaru.action_library)\n",
    "\n",
    "action = oaru.action_library[\"action-44\"]\n",
    "\n",
    "print(action)\n",
    "\n",
    "print(action.can_produce_transition(*oaru.negative_examples[0]))\n",
    "\n",
    "for inst in action.all_instantiations(oaru.negative_examples[0][0]):\n",
    "    print(inst)"
   ]
  }
 ],
 "metadata": {
  "kernelspec": {
   "display_name": "satstripslearn",
   "language": "python",
   "name": "satstripslearn"
  },
  "language_info": {
   "codemirror_mode": {
    "name": "ipython",
    "version": 3
   },
   "file_extension": ".py",
   "mimetype": "text/x-python",
   "name": "python",
   "nbconvert_exporter": "python",
   "pygments_lexer": "ipython3",
   "version": "3.8.10"
  }
 },
 "nbformat": 4,
 "nbformat_minor": 4
}
