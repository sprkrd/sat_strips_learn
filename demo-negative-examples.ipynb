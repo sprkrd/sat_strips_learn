{
 "cells": [
  {
   "cell_type": "code",
   "execution_count": 16,
   "metadata": {},
   "outputs": [
    {
     "name": "stdout",
     "output_type": "stream",
     "text": [
      "4 k....\n",
      "3 .....\n",
      "2 .....\n",
      "1 .....\n",
      "  ABCDE\n"
     ]
    }
   ],
   "source": [
    "from terminal_simulator import Game\n",
    "\n",
    "game = Game(\"king\", 42)\n",
    "print(game)"
   ]
  },
  {
   "cell_type": "code",
   "execution_count": 2,
   "metadata": {},
   "outputs": [
    {
     "name": "stdout",
     "output_type": "stream",
     "text": [
      "{ right(d3,e3),location(e2),location(d4),up(e2,e3),right(b2,c2),left(e3,d3),location(b2),right(b1,c1),less-than(4,7),token(7),less-than(0,8),less-than(8,9),empty(a3),less-than(3,5),left(c2,b2),at(9,b1),location(d3),less-than(1,8),down(e4,e3),empty(b4),empty(b3),at(7,a2),right(b4,c4),down(d2,d1),down(c2,c1),left(e2,d2),less-than(3,4),location(a3),down(d3,d2),less-than(2,5),empty(c3),token(3),down(b4,b3),less-than(4,8),less-than(3,6),left(b3,a3),up(d3,d4),location(e3),right(a1,b1),left(c3,b3),token(4),up(b1,b2),location(b4),up(a3,a4),location(b3),location(a4),right(c2,d2),at(4,c1),less-than(0,3),less-than(3,9),token(8),down(d4,d3),less-than(6,7),location(c3),right(a2,b2),up(b2,b3),less-than(0,7),at(1,e1),right(d2,e2),less-than(7,8),token(0),empty(e3),at(5,e2),empty(a4),up(a2,a3),down(e2,e1),down(a2,a1),less-than(5,9),up(c2,c3),less-than(0,6),less-than(2,8),less-than(2,4),up(d1,d2),less-than(5,6),right(a3,b3),at(8,d2),less-than(0,9),left(b2,a2),down(b3,b2),right(b3,c3),token(2),less-than(1,9),less-than(6,9),less-than(0,2),less-than(1,5),less-than(5,7),at(6,a1),left(d3,c3),at(3,b2),less-than(1,6),left(d1,c1),left(b1,a1),less-than(4,9),left(e4,d4),right(d4,e4),less-than(3,7),at(0,d1),right(d1,e1),less-than(2,3),less-than(4,5),down(c4,c3),less-than(1,4),location(c1),down(c3,c2),less-than(1,2),right(c4,d4),location(c2),less-than(3,8),less-than(2,7),less-than(4,6),empty(e4),token(9),left(d4,c4),left(c4,b4),right(c3,d3),empty(c4),location(b1),token(6),location(a2),location(e1),down(b2,b1),left(b4,a4),left(e1,d1),location(d2),less-than(2,6),less-than(0,4),left(c1,b1),less-than(0,5),up(c1,c2),less-than(7,9),up(b3,b4),location(e4),less-than(2,9),right(a4,b4),up(c3,c4),up(a1,a2),at(2,c2),up(e1,e2),location(c4),empty(d4),down(e3,e2),token(1),left(d2,c2),less-than(1,3),location(d1),token(5),location(a1),right(c1,d1),up(e3,e4),up(d2,d3),less-than(1,7),down(a3,a2),less-than(6,8),less-than(0,1),less-than(5,8),down(a4,a3),empty(d3); maybe  }\n"
     ]
    }
   ],
   "source": [
    "print(game.get_state())"
   ]
  },
  {
   "cell_type": "code",
   "execution_count": 17,
   "metadata": {},
   "outputs": [
    {
     "name": "stdout",
     "output_type": "stream",
     "text": [
      "4 k....\n",
      "3 .....\n",
      "2 .....\n",
      "1 .....\n",
      "  ABCDE\n",
      "\n",
      "4 .k...\n",
      "3 .....\n",
      "2 .....\n",
      "1 .....\n",
      "  ABCDE\n",
      "\n",
      "4 .....\n",
      "3 .k...\n",
      "2 .....\n",
      "1 .....\n",
      "  ABCDE\n",
      "\n",
      "4 .....\n",
      "3 ..k..\n",
      "2 .....\n",
      "1 .....\n",
      "  ABCDE\n",
      "\n",
      "4 .....\n",
      "3 .k...\n",
      "2 .....\n",
      "1 .....\n",
      "  ABCDE\n",
      "\n",
      "4 .....\n",
      "3 k....\n",
      "2 .....\n",
      "1 .....\n",
      "  ABCDE\n",
      "\n"
     ]
    }
   ],
   "source": [
    "from satstripslearn.oaru import OaruAlgorithm, STANDARD_FILTERS\n",
    "\n",
    "oaru = OaruAlgorithm(filters=[{\"min_score\": 0, \"fn\": min}])\n",
    "\n",
    "s0 = game.get_state()\n",
    "print(game, end=\"\\n\\n\")\n",
    "\n",
    "game.pick_and_place(\"k\", \"B4\")\n",
    "s1 = game.get_state()\n",
    "print(game, end=\"\\n\\n\")\n",
    "\n",
    "game.pick_and_place(\"k\", \"B3\")\n",
    "s2 = game.get_state()\n",
    "print(game, end=\"\\n\\n\")\n",
    "\n",
    "game.pick_and_place(\"k\", \"C3\")\n",
    "s3 = game.get_state()\n",
    "print(game, end=\"\\n\\n\")\n",
    "\n",
    "game.pick_and_place(\"k\", \"B3\")\n",
    "s4 = game.get_state()\n",
    "print(game, end=\"\\n\\n\")\n",
    "\n",
    "game.pick_and_place(\"k\", \"A3\")\n",
    "s5 = game.get_state()\n",
    "print(game, end=\"\\n\\n\")\n",
    "\n",
    "oaru.action_recognition(s0, s1)\n",
    "oaru.draw_graph(\"s0_s1\")\n",
    "\n",
    "oaru.action_recognition(s1, s2)\n",
    "oaru.draw_graph(\"s1_s2\")\n",
    "\n",
    "oaru.action_recognition(s2, s3)\n",
    "oaru.draw_graph(\"s2_s3\")\n",
    "\n",
    "oaru.action_recognition(s3, s4)\n",
    "oaru.draw_graph(\"s3_s4\")\n",
    "\n",
    "oaru.action_recognition(s4, s5)\n",
    "oaru.draw_graph(\"s4_s5\")"
   ]
  },
  {
   "cell_type": "code",
   "execution_count": 18,
   "metadata": {},
   "outputs": [
    {
     "name": "stdout",
     "output_type": "stream",
     "text": [
      "4 k....\n",
      "3 .....\n",
      "2 .....\n",
      "1 .....\n",
      "  ABCDE\n",
      "\n",
      "4 .k...\n",
      "3 .....\n",
      "2 .....\n",
      "1 .....\n",
      "  ABCDE\n",
      "\n",
      "4 .....\n",
      "3 .k...\n",
      "2 .....\n",
      "1 .....\n",
      "  ABCDE\n",
      "\n",
      "4 .....\n",
      "3 ..k..\n",
      "2 .....\n",
      "1 .....\n",
      "  ABCDE\n",
      "\n",
      "4 .....\n",
      "3 .....\n",
      "2 ...k.\n",
      "1 .....\n",
      "  ABCDE\n",
      "\n"
     ]
    }
   ],
   "source": [
    "game = Game(\"king\", 42)\n",
    "\n",
    "oaru = OaruAlgorithm(filters=[{\"min_score\": 0, \"fn\": min}])\n",
    "\n",
    "s0 = game.get_state()\n",
    "print(game, end=\"\\n\\n\")\n",
    "\n",
    "game.pick_and_place(\"k\", \"B4\")\n",
    "s1 = game.get_state()\n",
    "print(game, end=\"\\n\\n\")\n",
    "\n",
    "game.pick_and_place(\"k\", \"B3\")\n",
    "s2 = game.get_state()\n",
    "print(game, end=\"\\n\\n\")\n",
    "\n",
    "game.pick_and_place(\"k\", \"C3\")\n",
    "s3 = game.get_state()\n",
    "print(game, end=\"\\n\\n\")\n",
    "\n",
    "#game.pick_and_place(\"k\", \"B3\")\n",
    "#s4 = game.get_state()\n",
    "#print(game, end=\"\\n\\n\")\n",
    "\n",
    "#game.pick_and_place(\"k\", \"A3\")\n",
    "#s5 = game.get_state()\n",
    "#print(game, end=\"\\n\\n\")\n",
    "\n",
    "game.pick_and_place(\"k\", \"D2\")\n",
    "s6 = game.get_state()\n",
    "print(game, end=\"\\n\\n\")\n",
    "\n",
    "oaru.action_recognition(s0, s1)\n",
    "oaru.draw_graph(\"s0_s1\")\n",
    "\n",
    "oaru.action_recognition(s1, s2)\n",
    "oaru.draw_graph(\"s1_s2\")\n",
    "\n",
    "#oaru.action_recognition(s2, s3)\n",
    "#oaru.draw_graph(\"s2_s3\")\n",
    "\n",
    "#oaru.action_recognition(s3, s4)\n",
    "#oaru.draw_graph(\"s3_s4\")\n",
    "\n",
    "#oaru.action_recognition(s4, s5)\n",
    "#oaru.draw_graph(\"s4_s5\")\n",
    "\n",
    "oaru.add_negative_example(s2, s6)\n",
    "\n",
    "oaru.action_recognition(s2, s3)\n",
    "oaru.draw_graph(\"s2_s3\")"
   ]
  },
  {
   "cell_type": "code",
   "execution_count": 15,
   "metadata": {},
   "outputs": [
    {
     "name": "stdout",
     "output_type": "stream",
     "text": [
      "{'action-49': Action{name=action-49, 11 features}, 'action-54': Action{name=action-54, 11 features}}\n"
     ]
    }
   ],
   "source": [
    "\n",
    "print(oaru.action_library)\n",
    "\n",
    "oaru.draw_graph(\"negative\")\n",
    "\n",
    "# action = oaru.action_library[\"action-44\"]\n",
    "\n",
    "# print(action)\n",
    "\n",
    "# print(action.can_produce_transition(*oaru.negative_examples[0]))\n",
    "\n",
    "# for inst in action.all_instantiations(oaru.negative_examples[0][0]):\n",
    "#     print(inst)"
   ]
  }
 ],
 "metadata": {
  "kernelspec": {
   "display_name": "satstripslearn",
   "language": "python",
   "name": "satstripslearn"
  },
  "language_info": {
   "codemirror_mode": {
    "name": "ipython",
    "version": 3
   },
   "file_extension": ".py",
   "mimetype": "text/x-python",
   "name": "python",
   "nbconvert_exporter": "python",
   "pygments_lexer": "ipython3",
   "version": "3.6.9"
  }
 },
 "nbformat": 4,
 "nbformat_minor": 4
}
